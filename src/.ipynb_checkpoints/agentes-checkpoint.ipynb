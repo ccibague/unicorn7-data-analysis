{
 "cells": [
  {
   "cell_type": "markdown",
   "id": "bf92451f-357f-4961-a9b2-1f7c4af40a9c",
   "metadata": {},
   "source": [
    "#### Análisis de los tickets por Agente y Departamento"
   ]
  },
  {
   "cell_type": "code",
   "execution_count": 1,
   "id": "5b48c398-f6b6-4e0f-910e-f4ebffb33fe2",
   "metadata": {},
   "outputs": [
    {
     "name": "stdout",
     "output_type": "stream",
     "text": [
      "Requirement already satisfied: tkcalendar in c:\\users\\portatilti\\anaconda3\\envs\\unicornenv\\lib\\site-packages (1.6.1)\n",
      "Requirement already satisfied: babel in c:\\users\\portatilti\\anaconda3\\envs\\unicornenv\\lib\\site-packages (from tkcalendar) (2.11.0)\n",
      "Requirement already satisfied: pytz>=2015.7 in c:\\users\\portatilti\\anaconda3\\envs\\unicornenv\\lib\\site-packages (from babel->tkcalendar) (2024.1)\n"
     ]
    }
   ],
   "source": [
    "!pip install tkcalendar "
   ]
  },
  {
   "cell_type": "code",
   "execution_count": 3,
   "id": "2c09cf23-29fa-41e7-8d30-6c9b24f9c6e0",
   "metadata": {},
   "outputs": [],
   "source": [
    "import os\n",
    "from dotenv import load_dotenv\n",
    "import pandas as pd\n",
    "import numpy as np\n",
    "import tkinter as tk\n",
    "from tkcalendar import Calendar\n",
    "\n",
    "load_dotenv()\n",
    "\n",
    "%run conexionDB.ipynb\n",
    "\n",
    "# Obtener la conexión\n",
    "engine = obtener_conexion()"
   ]
  },
  {
   "cell_type": "code",
   "execution_count": null,
   "id": "9556dd8b-54f4-45a7-82bb-6e83c2791354",
   "metadata": {},
   "outputs": [
    {
     "name": "stdout",
     "output_type": "stream",
     "text": [
      "\n",
      "SELECT tk.number, CONCAT(sta.firstname, ' ', sta.lastname) AS \"Nombre Agente\", sta.staff_id, tk.dept_id,\n",
      "DATE_ADD(tk.created, INTERVAL -6 HOUR) as Creado\n",
      "FROM ost_ticket AS tk\n",
      "LEFT JOIN ost_staff AS sta ON tk.staff_id = sta.staff_id\n",
      "WHERE DATE_ADD(tk.created, INTERVAL -6 HOUR) BETWEEN '2019-02-01' AND DATE_ADD('2025-01-29', INTERVAL 1 DAY)\n",
      "ORDER BY tk.created DESC\n",
      "\n"
     ]
    }
   ],
   "source": [
    "from datetime import datetime\n",
    "\n",
    "# Fecha de inicio y salida a producción de la aplicación de soporte osTicket: 2 de febrero de 2019\n",
    "fechaInicio = '2019-02-01'\n",
    "\n",
    "# Fecha de fin: fecha actual (hoy)\n",
    "fechaFin = datetime.now().strftime('%Y-%m-%d')\n",
    "\n",
    "queryAgentes = f\"\"\"\n",
    "SELECT tk.number, CONCAT(sta.firstname, ' ', sta.lastname) AS \"Nombre Agente\", sta.staff_id, tk.dept_id,\n",
    "DATE_ADD(tk.created, INTERVAL -6 HOUR) as Creado\n",
    "FROM ost_ticket AS tk\n",
    "LEFT JOIN ost_staff AS sta ON tk.staff_id = sta.staff_id\n",
    "WHERE DATE_ADD(tk.created, INTERVAL -6 HOUR) BETWEEN '{fechaInicio}' AND DATE_ADD('{fechaFin}', INTERVAL 1 DAY)\n",
    "ORDER BY tk.created DESC\n",
    "\"\"\"\n",
    "\n",
    "# Imprimir la consulta para verificar\n",
    "print(queryAgentes)\n",
    "    \n",
    "# Ejecutar la consulta y almacenar los resultados en la variable global\n",
    "df_agentes = pd.read_sql(queryAgentes, engine)\n",
    "df_agentes"
   ]
  },
  {
   "cell_type": "markdown",
   "id": "896577a8-ffe7-4e5a-9712-b9d9a38e215b",
   "metadata": {},
   "source": [
    "#### Unificar TI 1 y TI 3, ya que ambos son del mismo departamento o área"
   ]
  },
  {
   "cell_type": "code",
   "execution_count": 4,
   "id": "e0eb703f-1b6b-42ee-bb8b-1e805860ad04",
   "metadata": {},
   "outputs": [
    {
     "data": {
      "text/html": [
       "<div>\n",
       "<style scoped>\n",
       "    .dataframe tbody tr th:only-of-type {\n",
       "        vertical-align: middle;\n",
       "    }\n",
       "\n",
       "    .dataframe tbody tr th {\n",
       "        vertical-align: top;\n",
       "    }\n",
       "\n",
       "    .dataframe thead th {\n",
       "        text-align: right;\n",
       "    }\n",
       "</style>\n",
       "<table border=\"1\" class=\"dataframe\">\n",
       "  <thead>\n",
       "    <tr style=\"text-align: right;\">\n",
       "      <th></th>\n",
       "      <th>number</th>\n",
       "      <th>Nombre Agente</th>\n",
       "      <th>staff_id</th>\n",
       "      <th>dept_id</th>\n",
       "      <th>Creado</th>\n",
       "    </tr>\n",
       "  </thead>\n",
       "  <tbody>\n",
       "    <tr>\n",
       "      <th>0</th>\n",
       "      <td>041389</td>\n",
       "      <td>Luis Fernando Vega</td>\n",
       "      <td>25.0</td>\n",
       "      <td>6</td>\n",
       "      <td>2025-01-24 17:57:33</td>\n",
       "    </tr>\n",
       "    <tr>\n",
       "      <th>1</th>\n",
       "      <td>041388</td>\n",
       "      <td>Mayoor Mappe</td>\n",
       "      <td>12.0</td>\n",
       "      <td>1</td>\n",
       "      <td>2025-01-24 17:57:02</td>\n",
       "    </tr>\n",
       "    <tr>\n",
       "      <th>2</th>\n",
       "      <td>041387</td>\n",
       "      <td>Luis Fernando Vega</td>\n",
       "      <td>25.0</td>\n",
       "      <td>6</td>\n",
       "      <td>2025-01-24 17:39:30</td>\n",
       "    </tr>\n",
       "    <tr>\n",
       "      <th>3</th>\n",
       "      <td>041386</td>\n",
       "      <td>Andres Romero</td>\n",
       "      <td>2.0</td>\n",
       "      <td>1</td>\n",
       "      <td>2025-01-24 17:25:47</td>\n",
       "    </tr>\n",
       "    <tr>\n",
       "      <th>4</th>\n",
       "      <td>041385</td>\n",
       "      <td>Andres Romero</td>\n",
       "      <td>2.0</td>\n",
       "      <td>1</td>\n",
       "      <td>2025-01-24 17:24:32</td>\n",
       "    </tr>\n",
       "    <tr>\n",
       "      <th>...</th>\n",
       "      <td>...</td>\n",
       "      <td>...</td>\n",
       "      <td>...</td>\n",
       "      <td>...</td>\n",
       "      <td>...</td>\n",
       "    </tr>\n",
       "    <tr>\n",
       "      <th>41368</th>\n",
       "      <td>000005</td>\n",
       "      <td>Mayoor Mappe</td>\n",
       "      <td>12.0</td>\n",
       "      <td>1</td>\n",
       "      <td>2019-02-06 15:00:22</td>\n",
       "    </tr>\n",
       "    <tr>\n",
       "      <th>41369</th>\n",
       "      <td>000004</td>\n",
       "      <td>Alan Stiven Gomez</td>\n",
       "      <td>14.0</td>\n",
       "      <td>1</td>\n",
       "      <td>2019-02-06 14:55:12</td>\n",
       "    </tr>\n",
       "    <tr>\n",
       "      <th>41370</th>\n",
       "      <td>000003</td>\n",
       "      <td>Infraestructura CCI</td>\n",
       "      <td>11.0</td>\n",
       "      <td>2</td>\n",
       "      <td>2019-02-06 14:26:51</td>\n",
       "    </tr>\n",
       "    <tr>\n",
       "      <th>41371</th>\n",
       "      <td>000002</td>\n",
       "      <td>Mayoor Mappe</td>\n",
       "      <td>12.0</td>\n",
       "      <td>1</td>\n",
       "      <td>2019-02-06 14:17:34</td>\n",
       "    </tr>\n",
       "    <tr>\n",
       "      <th>41372</th>\n",
       "      <td>000001</td>\n",
       "      <td>Alan Stiven Gomez</td>\n",
       "      <td>14.0</td>\n",
       "      <td>1</td>\n",
       "      <td>2019-02-06 12:25:51</td>\n",
       "    </tr>\n",
       "  </tbody>\n",
       "</table>\n",
       "<p>41373 rows × 5 columns</p>\n",
       "</div>"
      ],
      "text/plain": [
       "       number        Nombre Agente  staff_id  dept_id              Creado\n",
       "0      041389   Luis Fernando Vega      25.0        6 2025-01-24 17:57:33\n",
       "1      041388         Mayoor Mappe      12.0        1 2025-01-24 17:57:02\n",
       "2      041387   Luis Fernando Vega      25.0        6 2025-01-24 17:39:30\n",
       "3      041386        Andres Romero       2.0        1 2025-01-24 17:25:47\n",
       "4      041385        Andres Romero       2.0        1 2025-01-24 17:24:32\n",
       "...       ...                  ...       ...      ...                 ...\n",
       "41368  000005         Mayoor Mappe      12.0        1 2019-02-06 15:00:22\n",
       "41369  000004    Alan Stiven Gomez      14.0        1 2019-02-06 14:55:12\n",
       "41370  000003  Infraestructura CCI      11.0        2 2019-02-06 14:26:51\n",
       "41371  000002         Mayoor Mappe      12.0        1 2019-02-06 14:17:34\n",
       "41372  000001    Alan Stiven Gomez      14.0        1 2019-02-06 12:25:51\n",
       "\n",
       "[41373 rows x 5 columns]"
      ]
     },
     "execution_count": 4,
     "metadata": {},
     "output_type": "execute_result"
    }
   ],
   "source": [
    "# Reemplazar los valores de la columna \"id\" donde el valor sea 3 por 1\n",
    "df_agentes.loc[df_agentes[\"dept_id\"] == 3, \"dept_id\"] = 1\n",
    "df_agentes"
   ]
  },
  {
   "cell_type": "code",
   "execution_count": null,
   "id": "f562b222-98bc-4897-a741-9148a8ab02f4",
   "metadata": {},
   "outputs": [],
   "source": []
  }
 ],
 "metadata": {
  "kernelspec": {
   "display_name": "Python 3 (ipykernel)",
   "language": "python",
   "name": "python3"
  },
  "language_info": {
   "codemirror_mode": {
    "name": "ipython",
    "version": 3
   },
   "file_extension": ".py",
   "mimetype": "text/x-python",
   "name": "python",
   "nbconvert_exporter": "python",
   "pygments_lexer": "ipython3",
   "version": "3.12.4"
  }
 },
 "nbformat": 4,
 "nbformat_minor": 5
}
