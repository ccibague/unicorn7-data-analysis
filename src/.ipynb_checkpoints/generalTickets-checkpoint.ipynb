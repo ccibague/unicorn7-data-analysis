{
 "cells": [
  {
   "cell_type": "markdown",
   "id": "a54dddba-a4a4-4984-9c6f-e1019e8dcdf5",
   "metadata": {},
   "source": [
    "### Importación librerias requeridas\n",
    "### Obtener conexión y generar consulta ppal"
   ]
  },
  {
   "cell_type": "code",
   "execution_count": 313,
   "id": "7b53857d-00d1-4263-b634-1f5d5ef5e2ce",
   "metadata": {},
   "outputs": [],
   "source": [
    "import os\n",
    "from dotenv import load_dotenv\n",
    "import pandas as pd\n",
    "import numpy as np\n",
    "import tkinter as tk\n",
    "from tkcalendar import Calendar\n",
    "\n",
    "load_dotenv()\n",
    "\n",
    "%run conexionDB.ipynb\n",
    "\n",
    "# Obtener la conexión\n",
    "engine = obtener_conexion()"
   ]
  },
  {
   "cell_type": "markdown",
   "id": "61210f9c-aaf7-4731-bd9a-990ddf23d4c2",
   "metadata": {},
   "source": [
    "#### Calcular fechas dinámicamente permitiendo al usuario seleccionarlas a través de un Calendario"
   ]
  },
  {
   "cell_type": "markdown",
   "id": "add4d31a-6602-4dee-9b55-427d0feb79b5",
   "metadata": {},
   "source": [
    "#### Análisis de todos los Tickets recibidos por todas las áreas de la entidad."
   ]
  },
  {
   "cell_type": "code",
   "execution_count": 314,
   "id": "b8ca2fa2-6eb6-41bf-8918-271d2e6fb427",
   "metadata": {},
   "outputs": [],
   "source": [
    "# Variable global para almacenar el dataframe\n",
    "df = None\n",
    "\n",
    "# Función para obtener la fecha seleccionada\n",
    "def obtener_fechas():\n",
    "    global df  # Usar la variable global\n",
    "\n",
    "    # Obtiene las fechas seleccionadas\n",
    "    fecha_inicio = calendar_inicio.get_date()\n",
    "    fecha_fin = calendar_fin.get_date()\n",
    "    \n",
    "    # Convertir las fechas a formato adecuado\n",
    "    fecha_inicio = str(fecha_inicio)\n",
    "    fecha_fin = str(fecha_fin)\n",
    "    \n",
    "    # Crear la consulta SQL con las fechas seleccionadas\n",
    "    query = f\"\"\"\n",
    "    SELECT os.number AS 'No', \n",
    "    \t   dep.id,\n",
    "           dep.name,       \n",
    "    \t   osd.priority,\n",
    "           tp.priority as npriority,\n",
    "    \t   sla.grace_period,\n",
    "           ht.topic,\n",
    "           sla.name AS 'Sla',\n",
    "           osd.subject as Titulo, \n",
    "           DATE_ADD(os.created, INTERVAL -6 HOUR) as Creado,\n",
    "           DATE_ADD(os.closed, INTERVAL -6 HOUR) as Cerrado, \n",
    "           DATE_ADD(os.reopened, INTERVAL -6 HOUR) as Reabierto,\n",
    "    \t   us.name AS 'Usuario'\n",
    "    FROM ost_ticket AS os\n",
    "    LEFT JOIN ost_ticket__cdata AS osd ON os.ticket_id = osd.ticket_id\n",
    "    LEFT JOIN ost_sla AS sla ON os.sla_id = sla.id\n",
    "    LEFT JOIN ost_help_topic AS ht ON os.topic_id = ht.topic_id\n",
    "    LEFT JOIN ost_ticket_priority AS tp ON osd.priority = tp.priority_id\n",
    "    LEFT JOIN ost_department AS dep ON os.dept_id = dep.id\n",
    "    LEFT JOIN ost_user AS us ON os.user_id = us.id\n",
    "    WHERE DATE_ADD(os.created, INTERVAL -6 HOUR) BETWEEN '{fecha_inicio}' AND DATE_ADD('{fecha_fin}', INTERVAL 1 DAY)\n",
    "    ORDER BY os.created\n",
    "    \"\"\"    \n",
    "    \n",
    "    # Imprimir la consulta para verificar\n",
    "    print(query)\n",
    "    \n",
    "    # Ejecutar la consulta y almacenar los resultados en la variable global\n",
    "    df = pd.read_sql(query, engine)\n",
    "    \n",
    "    # Cerrar la ventana\n",
    "    ventana.destroy()\n",
    "    #Aca finaliza la función obtener_fechas()\n",
    "\n",
    "# Crear la ventana principal\n",
    "ventana = tk.Tk()\n",
    "ventana.title(\"Seleccionar Fechas\")\n",
    "\n",
    "# Etiquetas\n",
    "tk.Label(ventana, text=\"Fecha Inicial\").grid(row=0, column=0, padx=10, pady=10)\n",
    "tk.Label(ventana, text=\"Fecha Final\").grid(row=1, column=0, padx=10, pady=10)\n",
    "\n",
    "# Crear calendario para la fecha de inicio\n",
    "calendar_inicio = Calendar(ventana, date_pattern='yyyy-mm-dd', locale=\"es_ES\",\n",
    "                          background = \"blue\",\n",
    "                          foreground = \"white\",\n",
    "                          selectbackground = \"red\",\n",
    "                          normalbackground = \"lightblue\",\n",
    "                          weekendbackground = \"darkblue\",\n",
    "                          weekendforeground = \"white\")                          \n",
    "calendar_inicio.grid(row=0, column=1, padx=10, pady=10)\n",
    "\n",
    "# Crear calendario para la fecha de fin\n",
    "calendar_fin = Calendar(ventana, date_pattern='yyyy-mm-dd', locale=\"es_ES\",\n",
    "                          background = \"blue\",\n",
    "                          foreground = \"white\",\n",
    "                          selectbackground = \"red\",\n",
    "                          normalbackground = \"lightblue\",\n",
    "                          weekendbackground = \"darkblue\",\n",
    "                          weekendforeground = \"white\")                          \n",
    "calendar_fin.grid(row=1, column=1, padx=10, pady=10)\n",
    "\n",
    "# Botón para obtener las fechas y ejecutar la consulta llamando la función previamente creada obtener_fechas()\n",
    "boton = tk.Button(ventana, text=\"Obtener resultados\", command=obtener_fechas)\n",
    "boton.grid(row=2, column=0, columnspan=2, pady=20)\n",
    "\n",
    "# Iniciar la interfaz\n",
    "ventana.mainloop()\n",
    "\n",
    "# Imprimir el dataframe global después de que la ventana se cierre\n",
    "if df is not None:\n",
    "    print(df)"
   ]
  },
  {
   "cell_type": "markdown",
   "id": "8d4e1068-682d-4724-83cc-a9d1bb23905c",
   "metadata": {},
   "source": [
    "### Revisar la estructura del DataFrame"
   ]
  },
  {
   "cell_type": "code",
   "execution_count": 315,
   "id": "244a3f93-003f-48f6-ad30-d9a509c36450",
   "metadata": {},
   "outputs": [
    {
     "ename": "AttributeError",
     "evalue": "'NoneType' object has no attribute 'info'",
     "output_type": "error",
     "traceback": [
      "\u001b[1;31m---------------------------------------------------------------------------\u001b[0m",
      "\u001b[1;31mAttributeError\u001b[0m                            Traceback (most recent call last)",
      "Cell \u001b[1;32mIn[315], line 1\u001b[0m\n\u001b[1;32m----> 1\u001b[0m df\u001b[38;5;241m.\u001b[39minfo()\n",
      "\u001b[1;31mAttributeError\u001b[0m: 'NoneType' object has no attribute 'info'"
     ]
    }
   ],
   "source": [
    "df.info()"
   ]
  },
  {
   "cell_type": "markdown",
   "id": "49cabeee-1dfd-4001-b6b7-4174ee4a8c9b",
   "metadata": {},
   "source": [
    "### Identificar valores nulos"
   ]
  },
  {
   "cell_type": "code",
   "execution_count": null,
   "id": "c554463d-416a-4ed1-9cd2-89e9e113e8a6",
   "metadata": {},
   "outputs": [],
   "source": [
    "#df.isnull().values.any()\n",
    "df.isnull().sum()"
   ]
  },
  {
   "cell_type": "markdown",
   "id": "0378d4ee-1830-424d-b6d4-f20bcb16e3b0",
   "metadata": {},
   "source": [
    "### Revisar los tipos de datos\n",
    "#### Que exista concordancia con el dato almacenado."
   ]
  },
  {
   "cell_type": "code",
   "execution_count": null,
   "id": "13566276-406c-4191-8dca-80c30a3cf34f",
   "metadata": {},
   "outputs": [],
   "source": [
    "df.dtypes"
   ]
  },
  {
   "cell_type": "markdown",
   "id": "6fc1c91b-c54c-49a8-b4bc-b82168c73a65",
   "metadata": {},
   "source": [
    "### Información estadística"
   ]
  },
  {
   "cell_type": "code",
   "execution_count": null,
   "id": "f9fd8f8a-08ae-43f3-92e6-2fe2dbcbd5df",
   "metadata": {},
   "outputs": [],
   "source": [
    "df.describe()"
   ]
  },
  {
   "cell_type": "code",
   "execution_count": null,
   "id": "ce0ba178-aff8-4031-bdb1-057a2eb50a80",
   "metadata": {},
   "outputs": [],
   "source": [
    "# Obtener el tiempo transcurrido entre la fecha de creación y el cierre del ticket.\n",
    "df[\"Diferencia_Cerrado\"] = df[\"Cerrado\"] - df[\"Creado\"]\n",
    "df"
   ]
  },
  {
   "cell_type": "code",
   "execution_count": null,
   "id": "4be6b768-c75a-43b8-bc6d-0273f79b1161",
   "metadata": {},
   "outputs": [],
   "source": [
    "# Reemplazar los valores de la columna \"id\" donde el valor sea 3 por 1\n",
    "df.loc[df[\"id\"] == 3, \"id\"] = 1\n",
    "df"
   ]
  },
  {
   "cell_type": "code",
   "execution_count": null,
   "id": "8d35c351-91c7-493d-b38a-358fff95ed4d",
   "metadata": {},
   "outputs": [],
   "source": [
    "# Definir las condiciones\n",
    "condiciones = [\n",
    "    (df[\"id\"] == 1),         # id 1 -> Tecnología\n",
    "    (df[\"id\"] == 2),          # id 2 -> Infraestructura\n",
    "    (df[\"id\"] == 4),          # id 4 -> G.Documental\n",
    "    (df[\"id\"] == 5),          # id 5 -> Comunicaciones\n",
    "    (df[\"id\"] == 6),          # id 6 -> Jurídica\n",
    "    (df[\"id\"] == 7)           # id 7 -> E.Económicos\n",
    "]\n",
    "\n",
    "# Definir los valores correspondientes para cada condición\n",
    "valores = [\n",
    "    \"Tecnología\", \n",
    "    \"Infraestructura\", \n",
    "    \"G.Documental\", \n",
    "    \"Comunicaciones\", \n",
    "    \"Jurídica\", \n",
    "    \"E.Económicos\"\n",
    "]\n",
    "\n",
    "# Reemplazar en la columna name por los nuevos valores\n",
    "df[\"name\"] = np.select(condiciones, valores, default=\"Desconocido\")\n",
    "df"
   ]
  },
  {
   "cell_type": "code",
   "execution_count": null,
   "id": "866532d9-a3c5-4049-8e9e-6d2a41f70a5d",
   "metadata": {},
   "outputs": [],
   "source": [
    "df.duplicated().sum()"
   ]
  },
  {
   "cell_type": "code",
   "execution_count": null,
   "id": "c551e7a4-8530-4140-b9ef-bb60731c8b6d",
   "metadata": {},
   "outputs": [],
   "source": [
    "df.info()"
   ]
  },
  {
   "cell_type": "code",
   "execution_count": null,
   "id": "4d556968-8e3d-4d57-8a7f-7ee4d6e8fbbe",
   "metadata": {},
   "outputs": [],
   "source": [
    "# Verificar valores únicos de priority\n",
    "df[\"priority\"].unique()"
   ]
  },
  {
   "cell_type": "code",
   "execution_count": null,
   "id": "6e552cca-de26-4634-8432-028b7d5c71b1",
   "metadata": {},
   "outputs": [],
   "source": [
    "# Eliminar posibles espacios en blanco de name\n",
    "df[\"name\"] = df[\"name\"].str.strip()"
   ]
  },
  {
   "cell_type": "code",
   "execution_count": null,
   "id": "afdb18d3-a503-4a9b-a6ec-561fd822bc39",
   "metadata": {},
   "outputs": [],
   "source": [
    "# Eliminar posibles espacios en blanco de priority antes de convertirlo a int\n",
    "df[\"priority\"] = df[\"priority\"].str.strip()"
   ]
  },
  {
   "cell_type": "code",
   "execution_count": null,
   "id": "0ad26fbc-7856-479e-8b0c-53f8e0512bc6",
   "metadata": {},
   "outputs": [],
   "source": [
    "# Convertir priority (object) a priority(int) y así poderlo comparar (df[\"priority\"] == 1)\n",
    "df['priority'] = df['priority'].astype(int)"
   ]
  },
  {
   "cell_type": "code",
   "execution_count": null,
   "id": "421661b2-d277-467d-a02f-e5a735f4dccd",
   "metadata": {},
   "outputs": [],
   "source": [
    "df.info()"
   ]
  },
  {
   "cell_type": "code",
   "execution_count": null,
   "id": "e8cc87af-7eca-4997-8678-bf1e68b09806",
   "metadata": {},
   "outputs": [],
   "source": [
    "# Convertir Diferencia_Cerrado a horas\n",
    "df[\"Horas_Cerrado\"] = df[\"Diferencia_Cerrado\"].dt.total_seconds() / 3600\n",
    "\n",
    "\n",
    "# Según las prioridades y el tiempo de los SLA, se calcula el indicador si Cumple o no\n",
    "condiciones = [\n",
    "    # Indicador de cumplimiento para el área de Tecnología\n",
    "    (df[\"priority\"] == 1) & (df[\"id\"] == 1) & (df[\"Horas_Cerrado\"] <= 3),        \n",
    "    (df[\"priority\"] == 2) & (df[\"id\"] == 1) & (df[\"Horas_Cerrado\"] <= 2),    \n",
    "    (df[\"priority\"] == 3) & (df[\"id\"] == 1) & (df[\"Horas_Cerrado\"] <= 1),\n",
    "\n",
    "    # Indicador de cumplimiento para el área de Infraestructura\n",
    "    (df[\"priority\"] == 1) & (df[\"id\"] == 2) & (df[\"Horas_Cerrado\"] <= 3), \n",
    "    (df[\"priority\"] == 2) & (df[\"id\"] == 2) & (df[\"Horas_Cerrado\"] <= 3),  \n",
    "    (df[\"priority\"] == 3) & (df[\"id\"] == 2) & (df[\"Horas_Cerrado\"] <= 24),    \n",
    "    \n",
    "    # Indicador de cumplimiento para el área de Gestión Documental\n",
    "    (df[\"priority\"] == 1) & (df[\"id\"] == 4) & (df[\"Horas_Cerrado\"] <= 24), \n",
    "    (df[\"priority\"] == 2) & (df[\"id\"] == 4) & (df[\"Horas_Cerrado\"] <= 4),  \n",
    "    (df[\"priority\"] == 3) & (df[\"id\"] == 4) & (df[\"Horas_Cerrado\"] <= 2)       \n",
    "]\n",
    "\n",
    "valores = [\"Cumple\"] * len(condiciones)\n",
    "\n",
    "# Asignar el valor por defecto en los casos que no cumplan con las condiciones\n",
    "df[\"Indicador\"] = np.select(condiciones, valores, default=\"No cumple\")\n",
    "df"
   ]
  },
  {
   "cell_type": "code",
   "execution_count": null,
   "id": "9a53b543-2b19-4ba5-b212-6121753f69a2",
   "metadata": {},
   "outputs": [],
   "source": [
    "# Totalizar los tickets que cumplen\n",
    "(df[\"Indicador\"] == \"Cumple\").sum()"
   ]
  },
  {
   "cell_type": "code",
   "execution_count": null,
   "id": "72f6dd2d-df00-4f9a-9d15-ff5438953965",
   "metadata": {},
   "outputs": [],
   "source": [
    "# Totalizar los tickets que NO cumplen\n",
    "(df[\"Indicador\"] == \"No cumple\").sum()"
   ]
  },
  {
   "cell_type": "code",
   "execution_count": null,
   "id": "3827de66-7495-4f8b-bd1f-73b08b7e2c62",
   "metadata": {},
   "outputs": [],
   "source": [
    "import seaborn as sns\n",
    "import matplotlib.pyplot as plt\n",
    "\n",
    "plt.figure(figsize = (4,3))\n",
    "sns.histplot(data = df, x = \"Indicador\", bins = 50)\n",
    "plt.show()"
   ]
  },
  {
   "cell_type": "code",
   "execution_count": null,
   "id": "84ced696-7ae3-4ac7-98a1-c1dd2d578e6c",
   "metadata": {},
   "outputs": [],
   "source": [
    "df.to_csv(\"tickets.csv\", index = False)"
   ]
  },
  {
   "cell_type": "code",
   "execution_count": null,
   "id": "d3f78556-01a2-44ee-9bb3-dbcdfb5042c9",
   "metadata": {},
   "outputs": [],
   "source": [
    "%pwd"
   ]
  },
  {
   "cell_type": "code",
   "execution_count": null,
   "id": "f7737682-9d3d-430d-8ecf-a38fc78bca20",
   "metadata": {},
   "outputs": [],
   "source": []
  }
 ],
 "metadata": {
  "kernelspec": {
   "display_name": "Python 3 (ipykernel)",
   "language": "python",
   "name": "python3"
  },
  "language_info": {
   "codemirror_mode": {
    "name": "ipython",
    "version": 3
   },
   "file_extension": ".py",
   "mimetype": "text/x-python",
   "name": "python",
   "nbconvert_exporter": "python",
   "pygments_lexer": "ipython3",
   "version": "3.12.4"
  }
 },
 "nbformat": 4,
 "nbformat_minor": 5
}
