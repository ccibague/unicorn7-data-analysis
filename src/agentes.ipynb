{
 "cells": [
  {
   "cell_type": "markdown",
   "id": "bf92451f-357f-4961-a9b2-1f7c4af40a9c",
   "metadata": {},
   "source": [
    "#### Análisis de los tickets por Agente y Departamento"
   ]
  },
  {
   "cell_type": "code",
   "execution_count": 12,
   "id": "2c09cf23-29fa-41e7-8d30-6c9b24f9c6e0",
   "metadata": {},
   "outputs": [
    {
     "ename": "Exception",
     "evalue": "File `'conexionDB.ipynb'` not found.",
     "output_type": "error",
     "traceback": [
      "\u001b[1;31m---------------------------------------------------------------------------\u001b[0m",
      "\u001b[1;31mOSError\u001b[0m                                   Traceback (most recent call last)",
      "File \u001b[1;32m~\\anaconda3\\envs\\unicornenv\\Lib\\site-packages\\IPython\\core\\magics\\execution.py:716\u001b[0m, in \u001b[0;36mExecutionMagics.run\u001b[1;34m(self, parameter_s, runner, file_finder)\u001b[0m\n\u001b[0;32m    715\u001b[0m     fpath \u001b[38;5;241m=\u001b[39m arg_lst[\u001b[38;5;241m0\u001b[39m]\n\u001b[1;32m--> 716\u001b[0m     filename \u001b[38;5;241m=\u001b[39m file_finder(fpath)\n\u001b[0;32m    717\u001b[0m \u001b[38;5;28;01mexcept\u001b[39;00m \u001b[38;5;167;01mIndexError\u001b[39;00m \u001b[38;5;28;01mas\u001b[39;00m e:\n",
      "File \u001b[1;32m~\\anaconda3\\envs\\unicornenv\\Lib\\site-packages\\IPython\\utils\\path.py:91\u001b[0m, in \u001b[0;36mget_py_filename\u001b[1;34m(name)\u001b[0m\n\u001b[0;32m     90\u001b[0m         \u001b[38;5;28;01mreturn\u001b[39;00m py_name\n\u001b[1;32m---> 91\u001b[0m \u001b[38;5;28;01mraise\u001b[39;00m \u001b[38;5;167;01mIOError\u001b[39;00m(\u001b[38;5;124m\"\u001b[39m\u001b[38;5;124mFile `\u001b[39m\u001b[38;5;132;01m%r\u001b[39;00m\u001b[38;5;124m` not found.\u001b[39m\u001b[38;5;124m\"\u001b[39m \u001b[38;5;241m%\u001b[39m name)\n",
      "\u001b[1;31mOSError\u001b[0m: File `'conexionDB.ipynb'` not found.",
      "\nThe above exception was the direct cause of the following exception:\n",
      "\u001b[1;31mException\u001b[0m                                 Traceback (most recent call last)",
      "Cell \u001b[1;32mIn[12], line 10\u001b[0m\n\u001b[0;32m      6\u001b[0m \u001b[38;5;28;01mfrom\u001b[39;00m \u001b[38;5;21;01mtkcalendar\u001b[39;00m \u001b[38;5;28;01mimport\u001b[39;00m Calendar\n\u001b[0;32m      8\u001b[0m load_dotenv()\n\u001b[1;32m---> 10\u001b[0m get_ipython()\u001b[38;5;241m.\u001b[39mrun_line_magic(\u001b[38;5;124m'\u001b[39m\u001b[38;5;124mrun\u001b[39m\u001b[38;5;124m'\u001b[39m, \u001b[38;5;124m'\u001b[39m\u001b[38;5;124mconexionDB.ipynb\u001b[39m\u001b[38;5;124m'\u001b[39m)\n\u001b[0;32m     12\u001b[0m \u001b[38;5;66;03m# Obtener la conexión\u001b[39;00m\n\u001b[0;32m     13\u001b[0m engine \u001b[38;5;241m=\u001b[39m obtener_conexion()\n",
      "File \u001b[1;32m~\\anaconda3\\envs\\unicornenv\\Lib\\site-packages\\IPython\\core\\interactiveshell.py:2480\u001b[0m, in \u001b[0;36mInteractiveShell.run_line_magic\u001b[1;34m(self, magic_name, line, _stack_depth)\u001b[0m\n\u001b[0;32m   2478\u001b[0m     kwargs[\u001b[38;5;124m'\u001b[39m\u001b[38;5;124mlocal_ns\u001b[39m\u001b[38;5;124m'\u001b[39m] \u001b[38;5;241m=\u001b[39m \u001b[38;5;28mself\u001b[39m\u001b[38;5;241m.\u001b[39mget_local_scope(stack_depth)\n\u001b[0;32m   2479\u001b[0m \u001b[38;5;28;01mwith\u001b[39;00m \u001b[38;5;28mself\u001b[39m\u001b[38;5;241m.\u001b[39mbuiltin_trap:\n\u001b[1;32m-> 2480\u001b[0m     result \u001b[38;5;241m=\u001b[39m fn(\u001b[38;5;241m*\u001b[39margs, \u001b[38;5;241m*\u001b[39m\u001b[38;5;241m*\u001b[39mkwargs)\n\u001b[0;32m   2482\u001b[0m \u001b[38;5;66;03m# The code below prevents the output from being displayed\u001b[39;00m\n\u001b[0;32m   2483\u001b[0m \u001b[38;5;66;03m# when using magics with decorator @output_can_be_silenced\u001b[39;00m\n\u001b[0;32m   2484\u001b[0m \u001b[38;5;66;03m# when the last Python token in the expression is a ';'.\u001b[39;00m\n\u001b[0;32m   2485\u001b[0m \u001b[38;5;28;01mif\u001b[39;00m \u001b[38;5;28mgetattr\u001b[39m(fn, magic\u001b[38;5;241m.\u001b[39mMAGIC_OUTPUT_CAN_BE_SILENCED, \u001b[38;5;28;01mFalse\u001b[39;00m):\n",
      "File \u001b[1;32m~\\anaconda3\\envs\\unicornenv\\Lib\\site-packages\\IPython\\core\\magics\\execution.py:727\u001b[0m, in \u001b[0;36mExecutionMagics.run\u001b[1;34m(self, parameter_s, runner, file_finder)\u001b[0m\n\u001b[0;32m    725\u001b[0m     \u001b[38;5;28;01mif\u001b[39;00m os\u001b[38;5;241m.\u001b[39mname \u001b[38;5;241m==\u001b[39m \u001b[38;5;124m'\u001b[39m\u001b[38;5;124mnt\u001b[39m\u001b[38;5;124m'\u001b[39m \u001b[38;5;129;01mand\u001b[39;00m re\u001b[38;5;241m.\u001b[39mmatch(\u001b[38;5;124mr\u001b[39m\u001b[38;5;124m\"\u001b[39m\u001b[38;5;124m^\u001b[39m\u001b[38;5;124m'\u001b[39m\u001b[38;5;124m.*\u001b[39m\u001b[38;5;124m'\u001b[39m\u001b[38;5;124m$\u001b[39m\u001b[38;5;124m\"\u001b[39m,fpath):\n\u001b[0;32m    726\u001b[0m         warn(\u001b[38;5;124m'\u001b[39m\u001b[38;5;124mFor Windows, use double quotes to wrap a filename: \u001b[39m\u001b[38;5;132;01m%r\u001b[39;00m\u001b[38;5;124mun \u001b[39m\u001b[38;5;124m\"\u001b[39m\u001b[38;5;124mmypath\u001b[39m\u001b[38;5;130;01m\\\\\u001b[39;00m\u001b[38;5;124mmyfile.py\u001b[39m\u001b[38;5;124m\"\u001b[39m\u001b[38;5;124m'\u001b[39m)\n\u001b[1;32m--> 727\u001b[0m     \u001b[38;5;28;01mraise\u001b[39;00m \u001b[38;5;167;01mException\u001b[39;00m(msg) \u001b[38;5;28;01mfrom\u001b[39;00m \u001b[38;5;21;01me\u001b[39;00m\n\u001b[0;32m    728\u001b[0m \u001b[38;5;28;01mexcept\u001b[39;00m \u001b[38;5;167;01mTypeError\u001b[39;00m:\n\u001b[0;32m    729\u001b[0m     \u001b[38;5;28;01mif\u001b[39;00m fpath \u001b[38;5;129;01min\u001b[39;00m sys\u001b[38;5;241m.\u001b[39mmeta_path:\n",
      "\u001b[1;31mException\u001b[0m: File `'conexionDB.ipynb'` not found."
     ]
    }
   ],
   "source": [
    "import os\n",
    "from dotenv import load_dotenv\n",
    "import pandas as pd\n",
    "import numpy as np\n",
    "import tkinter as tk\n",
    "from tkcalendar import Calendar\n",
    "\n",
    "load_dotenv()\n",
    "\n",
    "%run conexionDB.ipynb\n",
    "\n",
    "# Obtener la conexión\n",
    "engine = obtener_conexion()"
   ]
  },
  {
   "cell_type": "code",
   "execution_count": null,
   "id": "9556dd8b-54f4-45a7-82bb-6e83c2791354",
   "metadata": {},
   "outputs": [],
   "source": [
    "from datetime import datetime\n",
    "\n",
    "# Fecha de inicio y salida a producción de la aplicación de soporte osTicket: 2 de febrero de 2019\n",
    "fechaInicio = '2019-02-01'\n",
    "\n",
    "# Fecha de fin: fecha actual (hoy)\n",
    "fechaFin = datetime.now().strftime('%Y-%m-%d')\n",
    "\n",
    "queryAgentes = f\"\"\"\n",
    "SELECT tk.number, CONCAT(sta.firstname, ' ', sta.lastname) AS \"Nombre Agente\", sta.staff_id, tk.dept_id,\n",
    "DATE_ADD(tk.created, INTERVAL -6 HOUR) as Creado\n",
    "FROM ost_ticket AS tk\n",
    "LEFT JOIN ost_staff AS sta ON tk.staff_id = sta.staff_id\n",
    "WHERE DATE_ADD(tk.created, INTERVAL -6 HOUR) BETWEEN '{fechaInicio}' AND DATE_ADD('{fechaFin}', INTERVAL 1 DAY)\n",
    "ORDER BY tk.created DESC\n",
    "\"\"\"\n",
    "\n",
    "# Imprimir la consulta para verificar\n",
    "print(queryAgentes)\n",
    "    \n",
    "# Ejecutar la consulta y almacenar los resultados en la variable global\n",
    "df_agentes = pd.read_sql(queryAgentes, engine)\n",
    "df_agentes"
   ]
  },
  {
   "cell_type": "markdown",
   "id": "896577a8-ffe7-4e5a-9712-b9d9a38e215b",
   "metadata": {},
   "source": [
    "#### Unificar TI 1 y TI 3, ya que ambos son del mismo departamento o área"
   ]
  },
  {
   "cell_type": "code",
   "execution_count": null,
   "id": "e0eb703f-1b6b-42ee-bb8b-1e805860ad04",
   "metadata": {},
   "outputs": [],
   "source": [
    "# Reemplazar los valores de la columna \"id\" donde el valor sea 3 por 1\n",
    "df_agentes.loc[df_agentes[\"dept_id\"] == 3, \"dept_id\"] = 1\n",
    "df_agentes"
   ]
  },
  {
   "cell_type": "code",
   "execution_count": null,
   "id": "f562b222-98bc-4897-a741-9148a8ab02f4",
   "metadata": {},
   "outputs": [],
   "source": []
  }
 ],
 "metadata": {
  "kernelspec": {
   "display_name": "Python 3 (ipykernel)",
   "language": "python",
   "name": "python3"
  },
  "language_info": {
   "codemirror_mode": {
    "name": "ipython",
    "version": 3
   },
   "file_extension": ".py",
   "mimetype": "text/x-python",
   "name": "python",
   "nbconvert_exporter": "python",
   "pygments_lexer": "ipython3",
   "version": "3.12.4"
  }
 },
 "nbformat": 4,
 "nbformat_minor": 5
}
